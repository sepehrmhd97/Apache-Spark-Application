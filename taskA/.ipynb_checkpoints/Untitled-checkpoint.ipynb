{
 "cells": [
  {
   "cell_type": "code",
   "execution_count": 2,
   "id": "088e4e19",
   "metadata": {},
   "outputs": [],
   "source": [
    "from pyspark.sql import SparkSession\n",
    "from pyspark import SparkContext"
   ]
  },
  {
   "cell_type": "code",
   "execution_count": 3,
   "id": "6eaca449",
   "metadata": {},
   "outputs": [
    {
     "name": "stderr",
     "output_type": "stream",
     "text": [
      "WARNING: An illegal reflective access operation has occurred\n",
      "WARNING: Illegal reflective access by org.apache.spark.unsafe.Platform (file:/home/ubuntu/.local/lib/python3.10/site-packages/pyspark/jars/spark-unsafe_2.12-3.2.3.jar) to constructor java.nio.DirectByteBuffer(long,int)\n",
      "WARNING: Please consider reporting this to the maintainers of org.apache.spark.unsafe.Platform\n",
      "WARNING: Use --illegal-access=warn to enable warnings of further illegal reflective access operations\n",
      "WARNING: All illegal access operations will be denied in a future release\n",
      "Using Spark's default log4j profile: org/apache/spark/log4j-defaults.properties\n",
      "Setting default log level to \"WARN\".\n",
      "To adjust logging level use sc.setLogLevel(newLevel). For SparkR, use setLogLevel(newLevel).\n",
      "23/02/22 15:51:30 WARN NativeCodeLoader: Unable to load native-hadoop library for your platform... using builtin-java classes where applicable\n"
     ]
    }
   ],
   "source": [
    "spark_session = SparkSession.builder\\\n",
    "    .master(\"spark://192.168.2.70:7077\") \\\n",
    "    .appName(\"Sepehr_3A\")\\\n",
    "    .config(\"spark.dynamicAllocation.enabled\", True)\\\n",
    "    .config(\"spark.dynamicAllocation.shuffleTracking.enabled\",True)\\\n",
    "    .config(\"spark.shuffle.service.enabled\", True)\\\n",
    "    .config(\"spark.dynamicAllocation.executorIdleTimeout\",\"30s\")\\\n",
    "    .config(\"spark.cores.max\", 4)\\\n",
    "    .getOrCreate()"
   ]
  },
  {
   "cell_type": "code",
   "execution_count": 4,
   "id": "203e3b87",
   "metadata": {},
   "outputs": [
    {
     "name": "stderr",
     "output_type": "stream",
     "text": [
      "[Stage 0:>                                                          (0 + 2) / 2]\r"
     ]
    },
    {
     "name": "stdout",
     "output_type": "stream",
     "text": [
      "166666616666670000000\n"
     ]
    },
    {
     "name": "stderr",
     "output_type": "stream",
     "text": [
      "\r",
      "                                                                                \r"
     ]
    }
   ],
   "source": [
    "def add(a, b):\n",
    "# associative and commutative!\n",
    "    return a + b\n",
    "rdd = spark_session.sparkContext.parallelize(range(10**7))\n",
    "result = rdd.filter(lambda x: x % 2 == 0).map(lambda x: x ** 2).reduce(add)\n",
    "print(result)"
   ]
  },
  {
   "cell_type": "code",
   "execution_count": 5,
   "id": "5115494d",
   "metadata": {},
   "outputs": [
    {
     "name": "stderr",
     "output_type": "stream",
     "text": [
      "                                                                                \r"
     ]
    },
    {
     "name": "stdout",
     "output_type": "stream",
     "text": [
      "Number of Lines in the English Version: 1862234\n"
     ]
    },
    {
     "name": "stderr",
     "output_type": "stream",
     "text": [
      "\r",
      "[Stage 2:===================>                                       (1 + 2) / 3]\r"
     ]
    },
    {
     "name": "stdout",
     "output_type": "stream",
     "text": [
      "Number of Lines in the Swedish Version: 1862234\n",
      "The Number of Lines in both Languages are the same\n",
      "Number of partitions in English Version: 2\n",
      "Number of partitions in Swedish Version: 3\n",
      "The Number of Partitions in Swedish and English are Different\n"
     ]
    },
    {
     "name": "stderr",
     "output_type": "stream",
     "text": [
      "\r",
      "                                                                                \r"
     ]
    }
   ],
   "source": [
    "# create spark contex\n",
    "sc = spark_session.sparkContext\n",
    "\n",
    "# create RDD from the textfile transcript in English\n",
    "rdd_en = sc.textFile(\"hdfs://192.168.2.70:9000/europarl/europarl-v7.sv-en.en\")\n",
    "\n",
    "#count number of lines in the English version\n",
    "linecount_en = rdd_en.count()\n",
    "\n",
    "print(f\"Number of Lines in the English Version: {linecount_en}\")\n",
    "\n",
    "#-------------------------------------------------\n",
    "\n",
    "# create RDD from the textfile transcript in Swedish\n",
    "rdd_sv = sc.textFile(\"hdfs://192.168.2.70:9000/europarl/europarl-v7.sv-en.sv\")\n",
    "\n",
    "#count number of lines in the Swedish version\n",
    "linecount_sv = rdd_sv.count()\n",
    "\n",
    "print(f\"Number of Lines in the Swedish Version: {linecount_sv}\")\n",
    "\n",
    "#-----------------------------------------------------\n",
    "\n",
    "#Compare the number of lines\n",
    "if linecount_en == linecount_sv :\n",
    "    print(\"The Number of Lines in both Languages are the same\")\n",
    "    \n",
    "else:\n",
    "    print (\"The Number of Lines in Swedish and English are Different\")\n",
    "    \n",
    "#-------------------------------------------------------------\n",
    "\n",
    "#count the number of partitions\n",
    "\n",
    "rdd_en_partitions = rdd_en.getNumPartitions()\n",
    "rdd_sv_partitions = rdd_sv.getNumPartitions()\n",
    "\n",
    "print(f'Number of partitions in English Version: {rdd_en_partitions}')\n",
    "print(f'Number of partitions in Swedish Version: {rdd_sv_partitions}')\n",
    "\n",
    "if rdd_en_partitions == rdd_sv_partitions :\n",
    "    print(\"The Number of Partitions in both Languages are the same\")\n",
    "    \n",
    "else:\n",
    "    print (\"The Number of Partitions in Swedish and English are Different\")\n",
    "\n",
    "\n",
    "\n"
   ]
  },
  {
   "cell_type": "code",
   "execution_count": 6,
   "id": "1d2efe0b",
   "metadata": {},
   "outputs": [],
   "source": [
    "# function to pre-process the RDDs\n",
    "def prp(rdd):\n",
    "    rdd = rdd.map(lambda a: a.lower().split())\n",
    "    return rdd"
   ]
  },
  {
   "cell_type": "code",
   "execution_count": 7,
   "id": "a9454195",
   "metadata": {},
   "outputs": [],
   "source": [
    "#pre-process the RDDS\n",
    "rdd_en_prp = prp(rdd_en)\n",
    "rdd_sv_prp = prp(rdd_sv)"
   ]
  },
  {
   "cell_type": "code",
   "execution_count": 8,
   "id": "cf659e97",
   "metadata": {},
   "outputs": [
    {
     "name": "stderr",
     "output_type": "stream",
     "text": [
      "                                                                                \r"
     ]
    },
    {
     "name": "stdout",
     "output_type": "stream",
     "text": [
      "10 Entries of the English Version:\n",
      " [['resumption', 'of', 'the', 'session'], ['i', 'declare', 'resumed', 'the', 'session', 'of', 'the', 'european', 'parliament', 'adjourned', 'on', 'friday', '17', 'december', '1999,', 'and', 'i', 'would', 'like', 'once', 'again', 'to', 'wish', 'you', 'a', 'happy', 'new', 'year', 'in', 'the', 'hope', 'that', 'you', 'enjoyed', 'a', 'pleasant', 'festive', 'period.'], ['although,', 'as', 'you', 'will', 'have', 'seen,', 'the', 'dreaded', \"'millennium\", \"bug'\", 'failed', 'to', 'materialise,', 'still', 'the', 'people', 'in', 'a', 'number', 'of', 'countries', 'suffered', 'a', 'series', 'of', 'natural', 'disasters', 'that', 'truly', 'were', 'dreadful.'], ['you', 'have', 'requested', 'a', 'debate', 'on', 'this', 'subject', 'in', 'the', 'course', 'of', 'the', 'next', 'few', 'days,', 'during', 'this', 'part-session.'], ['in', 'the', 'meantime,', 'i', 'should', 'like', 'to', 'observe', 'a', \"minute'\", 's', 'silence,', 'as', 'a', 'number', 'of', 'members', 'have', 'requested,', 'on', 'behalf', 'of', 'all', 'the', 'victims', 'concerned,', 'particularly', 'those', 'of', 'the', 'terrible', 'storms,', 'in', 'the', 'various', 'countries', 'of', 'the', 'european', 'union.'], ['please', 'rise,', 'then,', 'for', 'this', \"minute'\", 's', 'silence.'], ['(the', 'house', 'rose', 'and', 'observed', 'a', \"minute'\", 's', 'silence)'], ['madam', 'president,', 'on', 'a', 'point', 'of', 'order.'], ['you', 'will', 'be', 'aware', 'from', 'the', 'press', 'and', 'television', 'that', 'there', 'have', 'been', 'a', 'number', 'of', 'bomb', 'explosions', 'and', 'killings', 'in', 'sri', 'lanka.'], ['one', 'of', 'the', 'people', 'assassinated', 'very', 'recently', 'in', 'sri', 'lanka', 'was', 'mr', 'kumar', 'ponnambalam,', 'who', 'had', 'visited', 'the', 'european', 'parliament', 'just', 'a', 'few', 'months', 'ago.']]\n"
     ]
    },
    {
     "name": "stderr",
     "output_type": "stream",
     "text": [
      "                                                                                \r"
     ]
    },
    {
     "name": "stdout",
     "output_type": "stream",
     "text": [
      "10 Entries of the Swedish Version:\n",
      " [['återupptagande', 'av', 'sessionen'], ['jag', 'förklarar', 'europaparlamentets', 'session', 'återupptagen', 'efter', 'avbrottet', 'den', '17', 'december.', 'jag', 'vill', 'på', 'nytt', 'önska', 'er', 'ett', 'gott', 'nytt', 'år', 'och', 'jag', 'hoppas', 'att', 'ni', 'haft', 'en', 'trevlig', 'semester.'], ['som', 'ni', 'kunnat', 'konstatera', 'ägde', '\"den', 'stora', 'år', '2000-buggen\"', 'aldrig', 'rum.', 'däremot', 'har', 'invånarna', 'i', 'ett', 'antal', 'av', 'våra', 'medlemsländer', 'drabbats', 'av', 'naturkatastrofer', 'som', 'verkligen', 'varit', 'förskräckliga.'], ['ni', 'har', 'begärt', 'en', 'debatt', 'i', 'ämnet', 'under', 'sammanträdesperiodens', 'kommande', 'dagar.'], ['till', 'dess', 'vill', 'jag', 'att', 'vi,', 'som', 'ett', 'antal', 'kolleger', 'begärt,', 'håller', 'en', 'tyst', 'minut', 'för', 'offren', 'för', 'bl.a.', 'stormarna', 'i', 'de', 'länder', 'i', 'europeiska', 'unionen', 'som', 'drabbats.'], ['jag', 'ber', 'er', 'resa', 'er', 'för', 'en', 'tyst', 'minut.'], ['(parlamentet', 'höll', 'en', 'tyst', 'minut.)'], ['fru', 'talman!', 'det', 'gäller', 'en', 'ordningsfråga.'], ['ni', 'känner', 'till', 'från', 'media', 'att', 'det', 'skett', 'en', 'rad', 'bombexplosioner', 'och', 'mord', 'i', 'sri', 'lanka.'], ['en', 'av', 'de', 'personer', 'som', 'mycket', 'nyligen', 'mördades', 'i', 'sri', 'lanka', 'var', 'kumar', 'ponnambalam,', 'som', 'besökte', 'europaparlamentet', 'för', 'bara', 'några', 'månader', 'sedan.']]\n"
     ]
    },
    {
     "name": "stderr",
     "output_type": "stream",
     "text": [
      "                                                                                \r"
     ]
    },
    {
     "name": "stdout",
     "output_type": "stream",
     "text": [
      "Number of Lines in the English pre-processed Version: 1862234\n"
     ]
    },
    {
     "name": "stderr",
     "output_type": "stream",
     "text": [
      "\r",
      "[Stage 6:>                                                          (0 + 3) / 3]\r",
      "\r",
      "[Stage 6:===================>                                       (1 + 2) / 3]\r"
     ]
    },
    {
     "name": "stdout",
     "output_type": "stream",
     "text": [
      "Number of Lines in the Swedish pre-processed Version: 1862234\n",
      "The Number of the line is still the same after pre processing\n"
     ]
    },
    {
     "name": "stderr",
     "output_type": "stream",
     "text": [
      "\r",
      "                                                                                \r"
     ]
    }
   ],
   "source": [
    "# investigate 10 entries of each language version\n",
    "print(f\"10 Entries of the English Version:\\n {rdd_en_prp.take(10)}\")\n",
    "print(f\"10 Entries of the Swedish Version:\\n {rdd_sv_prp.take(10)}\")\n",
    "\n",
    "#----------------------------------------\n",
    "#Inverstigate the number of lines in pre-processed files\n",
    "linecount_en_prp = rdd_en_prp.count()\n",
    "print(f\"Number of Lines in the English pre-processed Version: {linecount_en_prp}\")\n",
    "\n",
    "linecount_sv_prp = rdd_sv_prp.count()\n",
    "print(f\"Number of Lines in the Swedish pre-processed Version: {linecount_sv_prp}\")\n",
    "\n",
    "if linecount_en_prp == linecount_sv_prp:\n",
    "    print(\"The Number of the line is still the same after pre processing\")\n",
    "else:\n",
    "    print(\"The Number of the line is not the same after pre processing\")"
   ]
  },
  {
   "cell_type": "code",
   "execution_count": 9,
   "id": "bea865a9",
   "metadata": {},
   "outputs": [],
   "source": [
    "#mapreduce function for the pre-processed texts, and frequency counter function\n",
    "def n_freq(language, rdd, n):\n",
    "    wordcount = rdd.flatMap(lambda line: line).map(lambda word: (word,1)).reduceByKey(lambda a,b: a+b)\n",
    "    freq = wordcount.sortBy(lambda x: x[1], False).take(n)\n",
    "    print(f'{n} most Frequent Words in {language} version:')\n",
    "    for word, count in freq:\n",
    "          print(f\"{word}: {count}\")\n",
    "    #wordcount_sv = rdd_sv_prp.flatMap(lambda line: line).map(lambda word: (word,1)).reduceByKey(lambda a,b: a+b)\n"
   ]
  },
  {
   "cell_type": "code",
   "execution_count": 10,
   "id": "4a5a26ae",
   "metadata": {},
   "outputs": [
    {
     "name": "stderr",
     "output_type": "stream",
     "text": [
      "                                                                                \r"
     ]
    },
    {
     "name": "stdout",
     "output_type": "stream",
     "text": [
      "10 most Frequent Words in English version:\n",
      "the: 3498574\n",
      "of: 1659884\n",
      "to: 1539823\n",
      "and: 1288620\n",
      "in: 1086089\n",
      "that: 797576\n",
      "a: 773812\n",
      "is: 758087\n",
      "for: 534270\n",
      "we: 522879\n"
     ]
    },
    {
     "name": "stderr",
     "output_type": "stream",
     "text": [
      "[Stage 19:>                                                         (0 + 3) / 3]\r"
     ]
    },
    {
     "name": "stdout",
     "output_type": "stream",
     "text": [
      "10 most Frequent Words in Swedish version:\n",
      "att: 1706309\n",
      "och: 1344895\n",
      "i: 1050989\n",
      "det: 924878\n",
      "som: 913302\n",
      "för: 908703\n",
      "av: 738102\n",
      "är: 694389\n",
      "en: 620347\n",
      "vi: 539808\n"
     ]
    },
    {
     "name": "stderr",
     "output_type": "stream",
     "text": [
      "\r",
      "                                                                                \r"
     ]
    }
   ],
   "source": [
    "n_freq(\"English\", rdd_en_prp,10)\n",
    "n_freq(\"Swedish\", rdd_sv_prp,10)"
   ]
  },
  {
   "cell_type": "code",
   "execution_count": null,
   "id": "75b2f95f",
   "metadata": {},
   "outputs": [],
   "source": [
    "#These are conjuction words that are most repetative in any languages"
   ]
  },
  {
   "cell_type": "code",
   "execution_count": 35,
   "id": "ecb1b563",
   "metadata": {},
   "outputs": [
    {
     "name": "stderr",
     "output_type": "stream",
     "text": [
      "                                                                                \r"
     ]
    }
   ],
   "source": [
    "#1. Key the lines by their line number using the zipWithIndex() method\n",
    "en_1 = rdd_en_prp.zipWithIndex()\n",
    "sv_1 = rdd_sv_prp.zipWithIndex()\n",
    "\n",
    "#2. Swap the key and value - so that the line number is the key\n",
    "en_2 = en_1.map(lambda x: (x[1], x[0]))\n",
    "sv_2 = sv_1.map(lambda x: (x[1], x[0]))\n",
    "\n",
    "#3. Join the two RDDs together according to the line number key, so you have pairs of matching lines\n",
    "joined_3 = en_2.join(sv_2)\n",
    "\n",
    "#4. Filter to exclude line pairs that have an empty/missing \"corresponding\" sentence\n",
    "joined_4 = joined_3.filter(lambda x: x[1][0] != \"\" and x[1][1] != \"\")\n",
    "\n",
    "#5.Filter to leave only pairs of sentences with a small number of words per sentence, this should give a more reliable translation\n",
    "joined_5 = joined_4.filter(lambda x: len(x[1][0]) <= 7 and len(x[1][1]) <= 7 )\n",
    "\n",
    "#6. Filter to leave only pairs of sentences with the same number of words in each sentence\n",
    "joined_6 = joined_5.filter(lambda x: len(x[1][0]) == len(x[1][1]))\n",
    "\n",
    "#7. For each sentence pair, map so that you pair each (in order) word in the two sentences. We no longer need the line numbers.\n",
    "paired_7 = joined_6.map(lambda x: list(zip(x[1][0], x[1][1])))\n",
    "\n",
    "#8. Use reduce to count the number of occurrences of the word-translation-pairs.\n",
    "count_8 = paired_7.flatMap(lambda pair: pair).map(lambda word: (word,1)).reduceByKey(lambda a,b: a+b)\n",
    "\n",
    "#9. Print some of the most frequently occurring pairs of words.\n",
    "def pair_freq(rdd,n):\n",
    "    count = rdd.sortBy(lambda x:x[1], False).take(n)\n",
    "    print(f'{n} most Frequent Words:')\n",
    "    for word,count in count:\n",
    "        print (f'{word}: {count}')"
   ]
  },
  {
   "cell_type": "code",
   "execution_count": 36,
   "id": "dd8b5a49",
   "metadata": {},
   "outputs": [
    {
     "name": "stderr",
     "output_type": "stream",
     "text": [
      "                                                                                \r"
     ]
    },
    {
     "name": "stdout",
     "output_type": "stream",
     "text": [
      "10 most Frequent Words:\n",
      "('is', 'är'): 7583\n",
      "('we', 'vi'): 3492\n",
      "('closed.', 'avslutad.'): 2977\n",
      "('i', 'jag'): 2876\n",
      "('(applause)', '(applåder)'): 2546\n",
      "('that', 'det'): 2234\n",
      "('this', 'detta'): 2156\n",
      "('.', '.'): 2128\n",
      "('it', 'det'): 1923\n",
      "('a', 'en'): 1760\n"
     ]
    }
   ],
   "source": [
    "pair_freq(count_8,10)"
   ]
  },
  {
   "cell_type": "code",
   "execution_count": null,
   "id": "8e6012b9",
   "metadata": {},
   "outputs": [],
   "source": [
    "#The translation seems to be correct"
   ]
  }
 ],
 "metadata": {
  "kernelspec": {
   "display_name": "Python 3 (ipykernel)",
   "language": "python",
   "name": "python3"
  },
  "language_info": {
   "codemirror_mode": {
    "name": "ipython",
    "version": 3
   },
   "file_extension": ".py",
   "mimetype": "text/x-python",
   "name": "python",
   "nbconvert_exporter": "python",
   "pygments_lexer": "ipython3",
   "version": "3.10.6"
  }
 },
 "nbformat": 4,
 "nbformat_minor": 5
}
